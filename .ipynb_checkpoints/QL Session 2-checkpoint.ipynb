{
 "cells": [
  {
   "cell_type": "code",
   "execution_count": 4,
   "metadata": {},
   "outputs": [],
   "source": [
    "import numpy as np"
   ]
  },
  {
   "cell_type": "markdown",
   "metadata": {},
   "source": [
    "# Mean"
   ]
  },
  {
   "cell_type": "markdown",
   "metadata": {},
   "source": [
    "`The \"Mean\" is computed by adding all of the numbers in the data together and dividing by the number elements contained in the data set.`"
   ]
  },
  {
   "cell_type": "code",
   "execution_count": 10,
   "metadata": {},
   "outputs": [],
   "source": [
    "\n"
   ]
  },
  {
   "cell_type": "code",
   "execution_count": 55,
   "metadata": {},
   "outputs": [],
   "source": [
    "data = np.array([1, 3, 5, 2, 3, 7, 8, 4, 10, 0, 6, 7, 3, 0, 3, 0, 5, 7, 10, 1, 4, 9, 3])\n",
    "def find_mean(lst):\n",
    "    element_sum = 0\n",
    "    \n",
    "    for element in lst:\n",
    "        element_sum += element\n",
    "        \n",
    "    return element_sum / len(lst)"
   ]
  },
  {
   "cell_type": "code",
   "execution_count": 56,
   "metadata": {},
   "outputs": [
    {
     "data": {
      "text/plain": [
       "4.391304347826087"
      ]
     },
     "execution_count": 56,
     "metadata": {},
     "output_type": "execute_result"
    }
   ],
   "source": [
    "find_mean(data)"
   ]
  },
  {
   "cell_type": "code",
   "execution_count": 57,
   "metadata": {},
   "outputs": [
    {
     "data": {
      "text/plain": [
       "4.391304347826087"
      ]
     },
     "execution_count": 57,
     "metadata": {},
     "output_type": "execute_result"
    }
   ],
   "source": [
    "np.mean(data)"
   ]
  },
  {
   "cell_type": "markdown",
   "metadata": {},
   "source": [
    "# Median"
   ]
  },
  {
   "cell_type": "markdown",
   "metadata": {},
   "source": [
    "`The \"Median\" of a data set is dependant on whether the number of elements in the data set is odd or even. First reorder the data set from the smallest to the largest then if the number of elements are odd, then the Median is the element in the middle of the data set. If the number of elements are even, then the Median is the average of the two middle terms.`"
   ]
  },
  {
   "cell_type": "code",
   "execution_count": 58,
   "metadata": {},
   "outputs": [],
   "source": [
    "# data = np.array([2,5,9,3,5,4])\n",
    "# TODO: Complete this function by having the function return the exact true median value of our dataset.\n",
    "# HINT: Consider using DataFrame slicing to help with identifying the correct median value(s).\n",
    "def compute_median(dataset):\n",
    "    \"\"\" Main function that determines the median value across our data. \"\"\"\n",
    "    count = len(dataset)\n",
    "    sorted_list = np.sort(dataset)\n",
    "    \n",
    "    if count < 1:\n",
    "        # TODO: Complete this if-statement\n",
    "        return []\n",
    "    if count % 2 == 1:\n",
    "        # TODO: Complete this if-statement\n",
    "        return sorted_list[int((count - 1)/2)]\n",
    "    else:\n",
    "        # TODO: Complete this if-else statement\n",
    "        element_one = sorted_list[int((count)/2)]\n",
    "        element_two = sorted_list[int(count/2) - 1]\n",
    "        return (element_one + element_two)/2\n",
    "    "
   ]
  },
  {
   "cell_type": "code",
   "execution_count": 59,
   "metadata": {},
   "outputs": [
    {
     "data": {
      "text/plain": [
       "4"
      ]
     },
     "execution_count": 59,
     "metadata": {},
     "output_type": "execute_result"
    }
   ],
   "source": [
    "compute_median(data)"
   ]
  },
  {
   "cell_type": "markdown",
   "metadata": {},
   "source": [
    "# Mode"
   ]
  },
  {
   "cell_type": "markdown",
   "metadata": {},
   "source": [
    "`\n",
    "Mode :\n",
    "The \"Mode\" for a data set is the element that occurs the most often. It is not uncommon for a data set to have more than one mode. This happens when two or more elements occur with equal frequency in the data set.`"
   ]
  },
  {
   "cell_type": "code",
   "execution_count": 85,
   "metadata": {},
   "outputs": [],
   "source": [
    "def compute_mode(dataset):\n",
    "    counter = {}\n",
    "    max_count = 0\n",
    "    most_common = []\n",
    "    \n",
    "    for value in dataset:\n",
    "        if value in counter:\n",
    "            counter[value] += 1\n",
    "        else:\n",
    "            counter[value] = 1\n",
    "\n",
    "    print(counter)\n",
    "    for key, value in counter.items():\n",
    "        if value > max_count:\n",
    "            max_count = value\n",
    "            most_common = [(key, value)]\n",
    "        elif value == max_count:\n",
    "            most_common.append((key, value))\n",
    "            \n",
    "#     return (d, max(d, key=d.get))\n",
    "            \n",
    "    return most_common"
   ]
  },
  {
   "cell_type": "code",
   "execution_count": 86,
   "metadata": {},
   "outputs": [
    {
     "name": "stdout",
     "output_type": "stream",
     "text": [
      "{1: 2, 3: 5, 5: 2, 2: 1, 7: 3, 8: 1, 4: 2, 10: 2, 0: 3, 6: 1, 9: 1}\n"
     ]
    },
    {
     "data": {
      "text/plain": [
       "[(3, 5)]"
      ]
     },
     "execution_count": 86,
     "metadata": {},
     "output_type": "execute_result"
    }
   ],
   "source": [
    "compute_mode(data)"
   ]
  },
  {
   "cell_type": "code",
   "execution_count": 88,
   "metadata": {},
   "outputs": [
    {
     "name": "stdout",
     "output_type": "stream",
     "text": [
      "{2: 1, 5: 2, 9: 2, 3: 1, 4: 1}\n"
     ]
    },
    {
     "data": {
      "text/plain": [
       "[(5, 2), (9, 2)]"
      ]
     },
     "execution_count": 88,
     "metadata": {},
     "output_type": "execute_result"
    }
   ],
   "source": [
    "compute_mode([2,5,9,3,5,4,9])"
   ]
  },
  {
   "cell_type": "code",
   "execution_count": 101,
   "metadata": {},
   "outputs": [],
   "source": [
    "d = {1: 2, 3: 5, 5: 2, 2: 1, 7: 3 , 8: 1, 4: 2, 10: 2, 0: 3, 6: 1, 9: 1}\n",
    "\n",
    "def getMaximumValue(dataset):\n",
    "    max_count = 0\n",
    "    most_common = []\n",
    "    \n",
    "#     for key, value in dataset.items():\n",
    "#         if value > max_count:\n",
    "#             max_count = value\n",
    "#             most_common = [key]\n",
    "#         elif value == max_count:\n",
    "#             most_common.append(key)\n",
    "\n",
    "    for key, value in dataset.items():\n",
    "        if value == max(dataset.values()):\n",
    "            most_common.append(key)\n",
    "            \n",
    "    return most_common"
   ]
  },
  {
   "cell_type": "code",
   "execution_count": 102,
   "metadata": {},
   "outputs": [
    {
     "data": {
      "text/plain": [
       "[3]"
      ]
     },
     "execution_count": 102,
     "metadata": {},
     "output_type": "execute_result"
    }
   ],
   "source": [
    "getMaximumValue(d)"
   ]
  },
  {
   "cell_type": "code",
   "execution_count": null,
   "metadata": {},
   "outputs": [],
   "source": []
  },
  {
   "cell_type": "markdown",
   "metadata": {},
   "source": [
    "# Range"
   ]
  },
  {
   "cell_type": "markdown",
   "metadata": {},
   "source": [
    "`The \"Range\" for a data set is the difference between the largest value and smallest value contained in the data set. First reorder the data set from smallest to largest then subtract the first element from the last element.`"
   ]
  },
  {
   "cell_type": "code",
   "execution_count": 107,
   "metadata": {},
   "outputs": [],
   "source": [
    "def find_range(dataset):\n",
    "#     sorted_list = np.sort(dataset)\n",
    "#     smallest = sorted_list[0]\n",
    "#     largest = sorted_list[len(sorted_list) - 1]\n",
    "\n",
    "    smallest = min(dataset)\n",
    "    largest = max(dataset)\n",
    "    \n",
    "    return largest - smallest"
   ]
  },
  {
   "cell_type": "code",
   "execution_count": 108,
   "metadata": {},
   "outputs": [
    {
     "data": {
      "text/plain": [
       "10"
      ]
     },
     "execution_count": 108,
     "metadata": {},
     "output_type": "execute_result"
    }
   ],
   "source": [
    "find_range([2, 5, 9, 3, 5, 4, 7, 12])"
   ]
  },
  {
   "cell_type": "markdown",
   "metadata": {},
   "source": [
    "# Standard Deviation"
   ]
  },
  {
   "cell_type": "markdown",
   "metadata": {},
   "source": [
    "`Variance measures how spread out the data is.\n",
    "Standard deviation is the root of variance`"
   ]
  },
  {
   "cell_type": "code",
   "execution_count": 131,
   "metadata": {},
   "outputs": [],
   "source": [
    "import math\n",
    "\n",
    "def standard_deviation(dataset):\n",
    "    mean = np.mean(dataset)\n",
    "    data = []\n",
    "    \n",
    "    for i in dataset:\n",
    "        num = i - mean\n",
    "        num = num * num\n",
    "        data.append(num)\n",
    "        \n",
    "    dataSum = sum(data)\n",
    "    \n",
    "    return math.sqrt(dataSum / (len(dataset) - 1) )"
   ]
  },
  {
   "cell_type": "code",
   "execution_count": 132,
   "metadata": {},
   "outputs": [
    {
     "data": {
      "text/plain": [
       "6.454972243679028"
      ]
     },
     "execution_count": 132,
     "metadata": {},
     "output_type": "execute_result"
    }
   ],
   "source": [
    "standard_deviation([5, 10, 15 ,20])"
   ]
  },
  {
   "cell_type": "code",
   "execution_count": 133,
   "metadata": {},
   "outputs": [
    {
     "data": {
      "text/plain": [
       "6.454972243679028"
      ]
     },
     "execution_count": 133,
     "metadata": {},
     "output_type": "execute_result"
    }
   ],
   "source": [
    "np.std([5, 10, 15 ,20], ddof=1)"
   ]
  },
  {
   "cell_type": "markdown",
   "metadata": {},
   "source": [
    "# Element Wise Addition"
   ]
  },
  {
   "cell_type": "markdown",
   "metadata": {},
   "source": [
    "`We have two list add the their elements for example a = [1 ,2, 3] b=[10, 15, 20] -> c = [11,17, 23]`"
   ]
  },
  {
   "cell_type": "code",
   "execution_count": 134,
   "metadata": {},
   "outputs": [],
   "source": [
    "def sum_lists(lst1, lst2):\n",
    "    lst3 = []\n",
    "    \n",
    "    for i,j in zip(lst1, lst2):\n",
    "        lst3.append(i + j)\n",
    "        \n",
    "    return lst3"
   ]
  },
  {
   "cell_type": "code",
   "execution_count": 136,
   "metadata": {},
   "outputs": [
    {
     "data": {
      "text/plain": [
       "[11, 17, 23]"
      ]
     },
     "execution_count": 136,
     "metadata": {},
     "output_type": "execute_result"
    }
   ],
   "source": [
    "sum_lists([1, 2, 3], [10, 15, 20])"
   ]
  },
  {
   "cell_type": "code",
   "execution_count": null,
   "metadata": {},
   "outputs": [],
   "source": []
  },
  {
   "cell_type": "code",
   "execution_count": null,
   "metadata": {},
   "outputs": [],
   "source": []
  }
 ],
 "metadata": {
  "kernelspec": {
   "display_name": "Python 3",
   "language": "python",
   "name": "python3"
  },
  "language_info": {
   "codemirror_mode": {
    "name": "ipython",
    "version": 3
   },
   "file_extension": ".py",
   "mimetype": "text/x-python",
   "name": "python",
   "nbconvert_exporter": "python",
   "pygments_lexer": "ipython3",
   "version": "3.7.0"
  }
 },
 "nbformat": 4,
 "nbformat_minor": 4
}
