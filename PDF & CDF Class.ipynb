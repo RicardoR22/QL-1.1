{
 "cells": [
  {
   "cell_type": "code",
   "execution_count": 3,
   "metadata": {},
   "outputs": [],
   "source": [
    "import numpy as np\n",
    "import pandas as pd\n",
    "\n",
    "df = pd.read_csv('./titanic-data-set.csv')"
   ]
  },
  {
   "cell_type": "markdown",
   "metadata": {},
   "source": [
    "# Probability Distribution Function (PDF)\n",
    "First let's review the difference between discrete and continuous random variables:\n",
    "\n",
    "- ***Discrete***: takes on a finite or countable number of values.\n",
    "- ***Continuous***: takes on an infinite number of values\n",
    "\n",
    "Because continuous random variables can take on an infinite number of values, we can't say with certantiy what value the variable will be at any point, so we have to instead provide an interval, or range of values that the variable could be"
   ]
  },
  {
   "cell_type": "code",
   "execution_count": 7,
   "metadata": {},
   "outputs": [
    {
     "data": {
      "text/plain": [
       "<matplotlib.axes._subplots.AxesSubplot at 0x110ff6d68>"
      ]
     },
     "execution_count": 7,
     "metadata": {},
     "output_type": "execute_result"
    },
    {
     "data": {
      "image/png": "[encoded data removed]",
      "text/plain": [
       "<Figure size 432x288 with 1 Axes>"
      ]
     },
     "metadata": {
      "needs_background": "light"
     },
     "output_type": "display_data"
    }
   ],
   "source": [
    "import seaborn as sns\n",
    "sns.distplot(df['Age'].dropna(), hist=True, kde=True, bins=16)"
   ]
  },
  {
   "cell_type": "markdown",
   "metadata": {},
   "source": [
    "`Area under curve represents what percentage of passengers were between 20 and 25`"
   ]
  },
  {
   "cell_type": "markdown",
   "metadata": {},
   "source": [
    "h * w = 122 / 714\n",
    "\n",
    "h * 5 = 122 / 714\n",
    "\n",
    "h = (122/714)/ 5"
   ]
  },
  {
   "cell_type": "code",
   "execution_count": 12,
   "metadata": {},
   "outputs": [
    {
     "name": "stdout",
     "output_type": "stream",
     "text": [
      "Height = 0.03417366946778712\n"
     ]
    }
   ],
   "source": [
    "print(f'Height = {(122/714)/5}')"
   ]
  },
  {
   "cell_type": "code",
   "execution_count": 23,
   "metadata": {},
   "outputs": [],
   "source": [
    "def count_list(lst, lower, upper):\n",
    "    count = 0\n",
    "    \n",
    "    for item in lst:\n",
    "        if item >= lower and item <= upper:\n",
    "            count += 1\n",
    "    \n",
    "    return count"
   ]
  },
  {
   "cell_type": "code",
   "execution_count": 24,
   "metadata": {},
   "outputs": [
    {
     "data": {
      "text/plain": [
       "137"
      ]
     },
     "execution_count": 24,
     "metadata": {},
     "output_type": "execute_result"
    }
   ],
   "source": [
    "ls_age = df['Age'].dropna().values\n",
    "\n",
    "count_list(ls_age, 20, 25)"
   ]
  },
  {
   "cell_type": "code",
   "execution_count": 27,
   "metadata": {},
   "outputs": [
    {
     "data": {
      "text/plain": [
       "122"
      ]
     },
     "execution_count": 27,
     "metadata": {},
     "output_type": "execute_result"
    }
   ],
   "source": [
    "count_list(ls_age, 20.315, 25.28875)"
   ]
  },
  {
   "cell_type": "code",
   "execution_count": 33,
   "metadata": {},
   "outputs": [
    {
     "data": {
      "text/plain": [
       "551"
      ]
     },
     "execution_count": 33,
     "metadata": {},
     "output_type": "execute_result"
    }
   ],
   "source": [
    "count_list(ls_age, 0, 39.99)"
   ]
  },
  {
   "cell_type": "code",
   "execution_count": 34,
   "metadata": {},
   "outputs": [
    {
     "data": {
      "text/plain": [
       "0.7717086834733894"
      ]
     },
     "execution_count": 34,
     "metadata": {},
     "output_type": "execute_result"
    }
   ],
   "source": [
    "551/714"
   ]
  },
  {
   "cell_type": "markdown",
   "metadata": {},
   "source": [
    "\n",
    "# Cumulative Density Function (CDF)\n",
    "- In the above example, we could not easily obtain the percentage from a PDF, although it is possible.\n",
    "\n",
    "- This is much easier if we use a ***CDF***. A CDF calculates the probability that a random variable is less than a threshold value\n",
    "\n",
    "- Let's learn CDF by example: given an array of numbers (our random variable) and a threshold value as input:\n",
    "\n",
    "    1. Find the minimum value in the array\n",
    "    2. Set the threshold to be the minimum value of the array\n",
    "    3. For a given array of numbers and a given threshold, count all of the elements in the array that are less than the threshold, and divide that count by the length of the array\n",
    "    4. Repeat step three, increasing the threshold by one, until you go through step three where threshold is equal to the maximum value in the array"
   ]
  },
  {
   "cell_type": "code",
   "execution_count": 53,
   "metadata": {},
   "outputs": [],
   "source": [
    "def lower_threshold(lst, lower):\n",
    "    count = 0\n",
    "    \n",
    "    for item in lst:\n",
    "        if item <= lower:\n",
    "            count += 1\n",
    "            \n",
    "    return count/len(lst)"
   ]
  },
  {
   "cell_type": "code",
   "execution_count": 60,
   "metadata": {},
   "outputs": [],
   "source": [
    "def calculate_cdf(lst, step):\n",
    "    lower = min(lst)\n",
    "    upper = max(lst)\n",
    "    \n",
    "    print(lower)\n",
    "    print(upper)\n",
    "    cdf = []\n",
    "    \n",
    "    for i in np.arange(lower, upper, step):\n",
    "        count = lower_threshold(lst, i)\n",
    "        cdf.append(count)\n",
    "        \n",
    "    return cdf\n",
    "        "
   ]
  },
  {
   "cell_type": "code",
   "execution_count": 63,
   "metadata": {},
   "outputs": [
    {
     "name": "stdout",
     "output_type": "stream",
     "text": [
      "0.42\n",
      "80.0\n",
      "[0.0014005602240896359, 0.0196078431372549, 0.03361344537815126, 0.04201680672268908, 0.056022408963585436, 0.06162464985994398, 0.06582633053221289, 0.0700280112044818, 0.07563025210084033, 0.08683473389355742, 0.0896358543417367, 0.09523809523809523, 0.09663865546218488, 0.09943977591036414, 0.10784313725490197, 0.11624649859943978, 0.1400560224089636, 0.15826330532212884, 0.19467787114845939, 0.22969187675070027, 0.2507002801120448, 0.2857142857142857, 0.3235294117647059, 0.3445378151260504, 0.38795518207282914, 0.4215686274509804, 0.44677871148459386, 0.47198879551820727, 0.5070028011204482, 0.5378151260504201, 0.572829131652661, 0.5994397759103641, 0.6246498599439776, 0.6484593837535014, 0.6694677871148459, 0.696078431372549, 0.726890756302521, 0.7366946778711485, 0.7521008403361344, 0.7717086834733894, 0.7899159663865546, 0.8011204481792717, 0.819327731092437, 0.8263305322128851, 0.8389355742296919, 0.8557422969187675, 0.8627450980392157, 0.8753501400560224, 0.8879551820728291, 0.896358543417367, 0.9103641456582633, 0.9201680672268907, 0.9285714285714286, 0.9299719887955182, 0.9411764705882353, 0.9439775910364145, 0.9509803921568627, 0.9537815126050421, 0.9607843137254902, 0.9635854341736695, 0.969187675070028, 0.9733893557422969, 0.9789915966386554, 0.9817927170868347, 0.9845938375350141, 0.988795518207283, 0.9901960784313726, 0.9901960784313726, 0.9901960784313726, 0.9901960784313726, 0.9929971988795518, 0.9971988795518207, 0.9971988795518207, 0.9971988795518207, 0.9985994397759104, 0.9985994397759104, 0.9985994397759104, 0.9985994397759104, 0.9985994397759104, 0.9985994397759104]\n"
     ]
    }
   ],
   "source": [
    "cdf_age = calculate_cdf(ls_age, 1)\n",
    "print(cdf_age)"
   ]
  },
  {
   "cell_type": "code",
   "execution_count": 64,
   "metadata": {},
   "outputs": [
    {
     "data": {
      "image/png": "[encoded data removed]",
      "text/plain": [
       "<Figure size 432x288 with 1 Axes>"
      ]
     },
     "metadata": {
      "needs_background": "light"
     },
     "output_type": "display_data"
    }
   ],
   "source": [
    "import matplotlib.pyplot as plt\n",
    "plt.plot(range(int(np.min(ls_age)), int(np.max(ls_age))), cdf_age)\n",
    "plt.grid()"
   ]
  },
  {
   "cell_type": "code",
   "execution_count": null,
   "metadata": {},
   "outputs": [],
   "source": []
  }
 ],
 "metadata": {
  "kernelspec": {
   "display_name": "Python 3",
   "language": "python",
   "name": "python3"
  },
  "language_info": {
   "codemirror_mode": {
    "name": "ipython",
    "version": 3
   },
   "file_extension": ".py",
   "mimetype": "text/x-python",
   "name": "python",
   "nbconvert_exporter": "python",
   "pygments_lexer": "ipython3",
   "version": "3.7.0"
  }
 },
 "nbformat": 4,
 "nbformat_minor": 4
}
