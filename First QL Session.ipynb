{
 "cells": [
  {
   "cell_type": "code",
   "execution_count": 1,
   "metadata": {},
   "outputs": [],
   "source": [
    "def add_f(a, b):\n",
    "    s = a + b\n",
    "    return s"
   ]
  },
  {
   "cell_type": "code",
   "execution_count": 2,
   "metadata": {},
   "outputs": [
    {
     "name": "stdout",
     "output_type": "stream",
     "text": [
      "5\n"
     ]
    }
   ],
   "source": [
    "print(add_f(2, 3))"
   ]
  },
  {
   "cell_type": "code",
   "execution_count": 3,
   "metadata": {},
   "outputs": [],
   "source": [
    "def add_me(a,b):\n",
    "    s = a + b\n",
    "    return s"
   ]
  },
  {
   "cell_type": "code",
   "execution_count": 4,
   "metadata": {},
   "outputs": [
    {
     "name": "stdout",
     "output_type": "stream",
     "text": [
      "6\n"
     ]
    }
   ],
   "source": [
    "print(add_me(2,4))"
   ]
  },
  {
   "cell_type": "markdown",
   "metadata": {},
   "source": [
    "# This is the first session of QL:\n",
    "\n",
    "\n",
    "### How to Markdown:"
   ]
  },
  {
   "cell_type": "markdown",
   "metadata": {},
   "source": [
    "${\\bar x} = 1/N \\sum_{i=0}^{N-1}x_i$"
   ]
  },
  {
   "cell_type": "markdown",
   "metadata": {},
   "source": [
    "`def add_f(a, b):\n",
    "    s = a + b\n",
    "    return s\n",
    "`"
   ]
  },
  {
   "cell_type": "markdown",
   "metadata": {},
   "source": [
    "<img src=\"baby_yoda.jpg\" width=\"300\" height=\"300\">\n"
   ]
  },
  {
   "cell_type": "code",
   "execution_count": 8,
   "metadata": {},
   "outputs": [],
   "source": [
    "# Starter code:\n",
    "import pandas as pd \n",
    "\n",
    "# read in the CSV\n",
    "df = pd.read_csv('titanic-data-set.csv')\n",
    "# create a list of Age values,\n",
    "# not including N/A values\n",
    "ls_age = df['Age'].dropna().values\n"
   ]
  },
  {
   "cell_type": "code",
   "execution_count": 9,
   "metadata": {},
   "outputs": [
    {
     "name": "stdout",
     "output_type": "stream",
     "text": [
      "[22.   38.   26.   35.   35.   54.    2.   27.   14.    4.   58.   20.\n",
      " 39.   14.   55.    2.   31.   35.   34.   15.   28.    8.   38.   19.\n",
      " 40.   66.   28.   42.   21.   18.   14.   40.   27.    3.   19.   18.\n",
      "  7.   21.   49.   29.   65.   21.   28.5   5.   11.   22.   38.   45.\n",
      "  4.   29.   19.   17.   26.   32.   16.   21.   26.   32.   25.    0.83\n",
      " 30.   22.   29.   28.   17.   33.   16.   23.   24.   29.   20.   46.\n",
      " 26.   59.   71.   23.   34.   34.   28.   21.   33.   37.   28.   21.\n",
      " 38.   47.   14.5  22.   20.   17.   21.   70.5  29.   24.    2.   21.\n",
      " 32.5  32.5  54.   12.   24.   45.   33.   20.   47.   29.   25.   23.\n",
      " 19.   37.   16.   24.   22.   24.   19.   18.   19.   27.    9.   36.5\n",
      " 42.   51.   22.   55.5  40.5  51.   16.   30.   44.   40.   26.   17.\n",
      "  1.    9.   45.   28.   61.    4.    1.   21.   56.   18.   50.   30.\n",
      " 36.    9.    1.    4.   45.   40.   36.   32.   19.   19.    3.   44.\n",
      " 58.   42.   24.   28.   34.   45.5  18.    2.   32.   26.   16.   40.\n",
      " 24.   35.   22.   30.   31.   27.   42.   32.   30.   16.   27.   51.\n",
      " 38.   22.   19.   20.5  18.   35.   29.   59.    5.   24.   44.    8.\n",
      " 19.   33.   29.   22.   30.   44.   25.   24.   37.   54.   29.   62.\n",
      " 30.   41.   29.   30.   35.   50.    3.   52.   40.   36.   16.   25.\n",
      " 58.   35.   25.   41.   37.   63.   45.    7.   35.   65.   28.   16.\n",
      " 19.   33.   30.   22.   42.   22.   26.   19.   36.   24.   24.   23.5\n",
      "  2.   50.   19.    0.92 17.   30.   30.   24.   18.   26.   28.   43.\n",
      " 26.   24.   54.   31.   40.   22.   27.   30.   22.   36.   61.   36.\n",
      " 31.   16.   45.5  38.   16.   29.   41.   45.   45.    2.   24.   28.\n",
      " 25.   36.   24.   40.    3.   42.   23.   15.   25.   28.   22.   38.\n",
      " 40.   29.   45.   35.   30.   60.   24.   25.   18.   19.   22.    3.\n",
      " 22.   27.   20.   19.   42.    1.   32.   35.   18.    1.   36.   17.\n",
      " 36.   21.   28.   23.   24.   22.   31.   46.   23.   28.   39.   26.\n",
      " 21.   28.   20.   34.   51.    3.   21.   33.   44.   34.   18.   30.\n",
      " 10.   21.   29.   28.   18.   28.   19.   32.   28.   42.   17.   50.\n",
      " 14.   21.   24.   64.   31.   45.   20.   25.   28.    4.   13.   34.\n",
      "  5.   52.   36.   30.   49.   29.   65.   50.   48.   34.   47.   48.\n",
      " 38.   56.    0.75 38.   33.   23.   22.   34.   29.   22.    2.    9.\n",
      " 50.   63.   25.   35.   58.   30.    9.   21.   55.   71.   21.   54.\n",
      " 25.   24.   17.   21.   37.   16.   18.   33.   28.   26.   29.   36.\n",
      " 54.   24.   47.   34.   36.   32.   30.   22.   44.   40.5  50.   39.\n",
      " 23.    2.   17.   30.    7.   45.   30.   22.   36.    9.   11.   32.\n",
      " 50.   64.   19.   33.    8.   17.   27.   22.   22.   62.   48.   39.\n",
      " 36.   40.   28.   24.   19.   29.   32.   62.   53.   36.   16.   19.\n",
      " 34.   39.   32.   25.   39.   54.   36.   18.   47.   60.   22.   35.\n",
      " 52.   47.   37.   36.   49.   49.   24.   44.   35.   36.   30.   27.\n",
      " 22.   40.   39.   35.   24.   34.   26.    4.   26.   27.   42.   20.\n",
      " 21.   21.   61.   57.   21.   26.   80.   51.   32.    9.   28.   32.\n",
      " 31.   41.   20.   24.    2.    0.75 48.   19.   56.   23.   18.   21.\n",
      " 18.   24.   32.   23.   58.   50.   40.   47.   36.   20.   32.   25.\n",
      " 43.   40.   31.   70.   31.   18.   24.5  18.   43.   36.   27.   20.\n",
      " 14.   60.   25.   14.   19.   18.   15.   31.    4.   25.   60.   52.\n",
      " 44.   49.   42.   18.   35.   18.   25.   26.   39.   45.   42.   22.\n",
      " 24.   48.   29.   52.   19.   38.   27.   33.    6.   17.   34.   50.\n",
      " 27.   20.   30.   25.   25.   29.   11.   23.   23.   28.5  48.   35.\n",
      " 36.   21.   24.   31.   70.   16.   30.   19.   31.    4.    6.   33.\n",
      " 23.   48.    0.67 28.   18.   34.   33.   41.   20.   36.   16.   51.\n",
      " 30.5  32.   24.   48.   57.   54.   18.    5.   43.   13.   17.   29.\n",
      " 25.   25.   18.    8.    1.   46.   16.   25.   39.   49.   31.   30.\n",
      " 30.   34.   31.   11.    0.42 27.   31.   39.   18.   39.   33.   26.\n",
      " 39.   35.    6.   30.5  23.   31.   43.   10.   52.   27.   38.   27.\n",
      "  2.    1.   62.   15.    0.83 23.   18.   39.   21.   32.   20.   16.\n",
      " 30.   34.5  17.   42.   35.   28.    4.   74.    9.   16.   44.   18.\n",
      " 45.   51.   24.   41.   21.   48.   24.   42.   27.   31.    4.   26.\n",
      " 47.   33.   47.   28.   15.   20.   19.   56.   25.   33.   22.   28.\n",
      " 25.   39.   27.   19.   26.   32.  ]\n"
     ]
    }
   ],
   "source": [
    "print(ls_age)"
   ]
  },
  {
   "cell_type": "code",
   "execution_count": 14,
   "metadata": {},
   "outputs": [],
   "source": [
    "def average_age(lst):\n",
    "    total_Age = 0\n",
    "    for age in lst:\n",
    "        total_Age += age\n",
    "    \n",
    "    avg_Age = total_Age / len(lst)\n",
    "    return avg_Age"
   ]
  },
  {
   "cell_type": "code",
   "execution_count": 15,
   "metadata": {},
   "outputs": [
    {
     "name": "stdout",
     "output_type": "stream",
     "text": [
      "29.69911764705882\n"
     ]
    }
   ],
   "source": [
    "print(average_age(ls_age))"
   ]
  },
  {
   "cell_type": "code",
   "execution_count": 16,
   "metadata": {},
   "outputs": [
    {
     "data": {
      "text/plain": [
       "29.69911764705882"
      ]
     },
     "execution_count": 16,
     "metadata": {},
     "output_type": "execute_result"
    }
   ],
   "source": [
    "import numpy as np\n",
    "np.mean(ls_age)"
   ]
  },
  {
   "cell_type": "code",
   "execution_count": 25,
   "metadata": {},
   "outputs": [],
   "source": [
    "# Starter code:\n",
    "import pandas as pd \n",
    "\n",
    "# read in the CSV\n",
    "df = pd.read_csv('titanic-data-set.csv')\n",
    "# create a list of gender values\n",
    "ls_gender = df['Sex'].dropna().values"
   ]
  },
  {
   "cell_type": "code",
   "execution_count": 26,
   "metadata": {},
   "outputs": [
    {
     "name": "stdout",
     "output_type": "stream",
     "text": [
      "['male' 'female' 'female' 'female' 'male' 'male' 'male' 'male' 'female'\n",
      " 'female' 'female' 'female' 'male' 'male' 'female' 'female' 'male' 'male'\n",
      " 'female' 'female' 'male' 'male' 'female' 'male' 'female' 'female' 'male'\n",
      " 'male' 'female' 'male' 'male' 'female' 'female' 'male' 'male' 'male'\n",
      " 'male' 'male' 'female' 'female' 'female' 'female' 'male' 'female'\n",
      " 'female' 'male' 'male' 'female' 'male' 'female' 'male' 'male' 'female'\n",
      " 'female' 'male' 'male' 'female' 'male' 'female' 'male' 'male' 'female'\n",
      " 'male' 'male' 'male' 'male' 'female' 'male' 'female' 'male' 'male'\n",
      " 'female' 'male' 'male' 'male' 'male' 'male' 'male' 'male' 'female' 'male'\n",
      " 'male' 'female' 'male' 'female' 'female' 'male' 'male' 'female' 'male'\n",
      " 'male' 'male' 'male' 'male' 'male' 'male' 'male' 'male' 'female' 'male'\n",
      " 'female' 'male' 'male' 'male' 'male' 'male' 'female' 'male' 'male'\n",
      " 'female' 'male' 'female' 'male' 'female' 'female' 'male' 'male' 'male'\n",
      " 'male' 'female' 'male' 'male' 'male' 'female' 'male' 'male' 'male' 'male'\n",
      " 'female' 'male' 'male' 'male' 'female' 'female' 'male' 'male' 'female'\n",
      " 'male' 'male' 'male' 'female' 'female' 'female' 'male' 'male' 'male'\n",
      " 'male' 'female' 'male' 'male' 'male' 'female' 'male' 'male' 'male' 'male'\n",
      " 'female' 'male' 'male' 'male' 'male' 'female' 'male' 'male' 'male' 'male'\n",
      " 'female' 'female' 'male' 'male' 'male' 'male' 'female' 'male' 'male'\n",
      " 'male' 'male' 'female' 'male' 'male' 'female' 'male' 'male' 'male'\n",
      " 'female' 'male' 'female' 'male' 'male' 'male' 'female' 'male' 'female'\n",
      " 'male' 'female' 'female' 'male' 'male' 'female' 'female' 'male' 'male'\n",
      " 'male' 'male' 'male' 'female' 'male' 'male' 'female' 'male' 'male'\n",
      " 'female' 'male' 'male' 'male' 'female' 'female' 'male' 'female' 'male'\n",
      " 'male' 'male' 'male' 'male' 'male' 'male' 'male' 'male' 'male' 'female'\n",
      " 'female' 'male' 'male' 'female' 'male' 'female' 'male' 'female' 'male'\n",
      " 'male' 'female' 'female' 'male' 'male' 'male' 'male' 'female' 'female'\n",
      " 'male' 'male' 'male' 'female' 'male' 'male' 'female' 'female' 'female'\n",
      " 'female' 'female' 'female' 'male' 'male' 'male' 'male' 'female' 'male'\n",
      " 'male' 'male' 'female' 'female' 'male' 'male' 'female' 'male' 'female'\n",
      " 'female' 'female' 'male' 'male' 'female' 'male' 'male' 'male' 'male'\n",
      " 'male' 'male' 'male' 'male' 'male' 'female' 'female' 'female' 'male'\n",
      " 'female' 'male' 'male' 'male' 'female' 'male' 'female' 'female' 'male'\n",
      " 'male' 'female' 'male' 'male' 'female' 'female' 'male' 'female' 'female'\n",
      " 'female' 'female' 'male' 'male' 'female' 'female' 'male' 'female'\n",
      " 'female' 'male' 'male' 'female' 'female' 'male' 'female' 'male' 'female'\n",
      " 'female' 'female' 'female' 'male' 'male' 'male' 'female' 'male' 'male'\n",
      " 'female' 'male' 'male' 'male' 'female' 'male' 'male' 'male' 'female'\n",
      " 'female' 'female' 'male' 'male' 'male' 'male' 'male' 'male' 'male' 'male'\n",
      " 'female' 'female' 'female' 'female' 'male' 'male' 'female' 'male' 'male'\n",
      " 'male' 'female' 'female' 'female' 'female' 'male' 'male' 'male' 'male'\n",
      " 'female' 'female' 'female' 'male' 'male' 'male' 'female' 'female' 'male'\n",
      " 'female' 'male' 'male' 'male' 'female' 'male' 'female' 'male' 'male'\n",
      " 'male' 'female' 'female' 'male' 'female' 'male' 'male' 'female' 'male'\n",
      " 'male' 'female' 'male' 'female' 'male' 'male' 'male' 'male' 'female'\n",
      " 'male' 'male' 'female' 'male' 'male' 'female' 'female' 'female' 'male'\n",
      " 'female' 'male' 'male' 'male' 'female' 'male' 'male' 'female' 'female'\n",
      " 'male' 'male' 'male' 'female' 'female' 'male' 'male' 'female' 'female'\n",
      " 'female' 'male' 'male' 'female' 'male' 'male' 'female' 'male' 'male'\n",
      " 'female' 'male' 'female' 'male' 'male' 'male' 'male' 'male' 'male' 'male'\n",
      " 'male' 'female' 'female' 'male' 'male' 'male' 'male' 'male' 'male' 'male'\n",
      " 'male' 'male' 'male' 'female' 'male' 'male' 'female' 'female' 'female'\n",
      " 'male' 'male' 'male' 'male' 'female' 'male' 'male' 'male' 'female' 'male'\n",
      " 'female' 'female' 'male' 'male' 'male' 'male' 'male' 'male' 'male' 'male'\n",
      " 'male' 'female' 'male' 'female' 'male' 'male' 'female' 'female' 'female'\n",
      " 'female' 'male' 'female' 'male' 'male' 'male' 'male' 'male' 'male'\n",
      " 'female' 'male' 'male' 'female' 'male' 'female' 'male' 'female' 'male'\n",
      " 'male' 'female' 'male' 'male' 'female' 'male' 'male' 'male' 'female'\n",
      " 'male' 'male' 'female' 'female' 'female' 'male' 'female' 'male' 'female'\n",
      " 'female' 'female' 'female' 'male' 'male' 'male' 'female' 'male' 'male'\n",
      " 'male' 'male' 'male' 'male' 'male' 'female' 'male' 'female' 'male'\n",
      " 'female' 'female' 'male' 'male' 'male' 'male' 'female' 'male' 'male'\n",
      " 'female' 'male' 'male' 'male' 'female' 'male' 'female' 'male' 'male'\n",
      " 'female' 'female' 'female' 'male' 'female' 'female' 'male' 'male' 'male'\n",
      " 'female' 'male' 'male' 'male' 'male' 'male' 'female' 'male' 'female'\n",
      " 'male' 'male' 'female' 'male' 'male' 'male' 'female' 'male' 'male' 'male'\n",
      " 'male' 'male' 'male' 'male' 'female' 'female' 'female' 'male' 'female'\n",
      " 'male' 'male' 'female' 'male' 'female' 'female' 'male' 'male' 'male'\n",
      " 'male' 'male' 'male' 'male' 'male' 'female' 'male' 'male' 'male' 'male'\n",
      " 'male' 'male' 'female' 'female' 'male' 'male' 'female' 'male' 'male'\n",
      " 'female' 'female' 'male' 'female' 'male' 'male' 'male' 'male' 'female'\n",
      " 'male' 'female' 'male' 'female' 'female' 'male' 'male' 'female' 'male'\n",
      " 'male' 'male' 'male' 'male' 'male' 'male' 'male' 'male' 'male' 'male'\n",
      " 'female' 'female' 'male' 'male' 'male' 'male' 'male' 'male' 'female'\n",
      " 'female' 'male' 'female' 'male' 'male' 'male' 'male' 'male' 'male' 'male'\n",
      " 'male' 'female' 'male' 'female' 'male' 'male' 'male' 'male' 'male'\n",
      " 'female' 'male' 'male' 'female' 'male' 'female' 'male' 'male' 'male'\n",
      " 'female' 'male' 'female' 'male' 'female' 'male' 'male' 'male' 'male'\n",
      " 'male' 'female' 'female' 'male' 'male' 'female' 'male' 'male' 'male'\n",
      " 'male' 'male' 'female' 'female' 'male' 'female' 'female' 'male' 'male'\n",
      " 'male' 'male' 'male' 'female' 'male' 'male' 'male' 'male' 'male' 'female'\n",
      " 'male' 'male' 'male' 'male' 'female' 'male' 'male' 'female' 'male' 'male'\n",
      " 'male' 'female' 'male' 'male' 'male' 'male' 'female' 'male' 'male' 'male'\n",
      " 'female' 'male' 'female' 'male' 'female' 'male' 'male' 'male' 'male'\n",
      " 'female' 'male' 'female' 'male' 'male' 'female' 'male' 'female' 'female'\n",
      " 'female' 'male' 'male' 'male' 'male' 'female' 'male' 'male' 'male' 'male'\n",
      " 'male' 'female' 'male' 'male' 'male' 'female' 'female' 'male' 'female'\n",
      " 'male' 'female' 'male' 'male' 'male' 'male' 'male' 'female' 'male'\n",
      " 'female' 'male' 'male' 'male' 'female' 'male' 'male' 'female' 'male'\n",
      " 'male' 'male' 'female' 'male' 'male' 'female' 'male' 'male' 'male' 'male'\n",
      " 'male' 'female' 'female' 'male' 'male' 'male' 'male' 'female' 'male'\n",
      " 'male' 'male' 'male' 'male' 'male' 'female' 'male' 'male' 'male' 'male'\n",
      " 'male' 'male' 'female' 'male' 'male' 'female' 'female' 'female' 'female'\n",
      " 'female' 'male' 'female' 'male' 'male' 'male' 'female' 'female' 'male'\n",
      " 'female' 'female' 'male' 'male' 'male' 'male' 'female' 'male' 'male'\n",
      " 'female' 'female' 'male' 'male' 'male' 'female' 'female' 'male' 'female'\n",
      " 'male' 'male' 'female' 'male' 'female' 'female' 'male' 'male']\n"
     ]
    }
   ],
   "source": [
    "print(ls_gender)"
   ]
  },
  {
   "cell_type": "code",
   "execution_count": 29,
   "metadata": {},
   "outputs": [],
   "source": [
    "def female_passengers(lst):\n",
    "    female = 0\n",
    "    for char in lst:\n",
    "        if char == \"female\":\n",
    "            female += 1\n",
    "\n",
    "    total_percent = female/len(lst)\n",
    "    return total_percent"
   ]
  },
  {
   "cell_type": "code",
   "execution_count": 30,
   "metadata": {},
   "outputs": [
    {
     "name": "stdout",
     "output_type": "stream",
     "text": [
      "0.35241301907968575\n"
     ]
    }
   ],
   "source": [
    "print(female_passengers(ls_gender))"
   ]
  },
  {
   "cell_type": "code",
   "execution_count": 36,
   "metadata": {},
   "outputs": [
    {
     "data": {
      "text/plain": [
       "male      577\n",
       "female    314\n",
       "Name: Sex, dtype: int64"
      ]
     },
     "execution_count": 36,
     "metadata": {},
     "output_type": "execute_result"
    }
   ],
   "source": [
    "df['Sex'].value_counts()"
   ]
  },
  {
   "cell_type": "code",
   "execution_count": 37,
   "metadata": {},
   "outputs": [
    {
     "data": {
      "text/plain": [
       "0.35241301907968575"
      ]
     },
     "execution_count": 37,
     "metadata": {},
     "output_type": "execute_result"
    }
   ],
   "source": [
    "314/len(ls_gender)"
   ]
  },
  {
   "cell_type": "code",
   "execution_count": 42,
   "metadata": {},
   "outputs": [],
   "source": [
    "def histogram(lst):\n",
    "    tracker = {}\n",
    "    for value in lst:\n",
    "        if value in tracker:\n",
    "            tracker[value] += 1\n",
    "        else:\n",
    "            tracker[value] = 1\n",
    "    return tracker"
   ]
  },
  {
   "cell_type": "code",
   "execution_count": 44,
   "metadata": {},
   "outputs": [
    {
     "name": "stdout",
     "output_type": "stream",
     "text": [
      "{'male': 577, 'female': 314}\n"
     ]
    }
   ],
   "source": [
    "print(histogram(ls_gender))"
   ]
  },
  {
   "cell_type": "code",
   "execution_count": 47,
   "metadata": {},
   "outputs": [
    {
     "name": "stdout",
     "output_type": "stream",
     "text": [
      "{2: 1, 3: 2, 7: 1, 0: 2}\n"
     ]
    }
   ],
   "source": [
    "print(histogram([2,3,3,7,0,0]))"
   ]
  },
  {
   "cell_type": "code",
   "execution_count": 45,
   "metadata": {},
   "outputs": [],
   "source": [
    "ls_age = df['Age'].values\n",
    "ls_gender = df['Sex'].values\n",
    "\n"
   ]
  },
  {
   "cell_type": "code",
   "execution_count": 66,
   "metadata": {},
   "outputs": [],
   "source": [
    "def female_average_age(lst1, lst2):\n",
    "    total_age = 0\n",
    "    counter = 0\n",
    "    for (i,j) in zip(lst1, lst2):\n",
    "        \n",
    "        if (j == 'female') and np.isnan(i) == False:\n",
    "            total_age += i\n",
    "            counter += 1\n",
    "    return total_age/counter"
   ]
  },
  {
   "cell_type": "code",
   "execution_count": 67,
   "metadata": {},
   "outputs": [
    {
     "name": "stdout",
     "output_type": "stream",
     "text": [
      "27.915708812260537\n"
     ]
    }
   ],
   "source": [
    "print(female_average_age(ls_age, ls_gender))"
   ]
  },
  {
   "cell_type": "code",
   "execution_count": null,
   "metadata": {},
   "outputs": [],
   "source": []
  }
 ],
 "metadata": {
  "kernelspec": {
   "display_name": "Python 3",
   "language": "python",
   "name": "python3"
  },
  "language_info": {
   "codemirror_mode": {
    "name": "ipython",
    "version": 3
   },
   "file_extension": ".py",
   "mimetype": "text/x-python",
   "name": "python",
   "nbconvert_exporter": "python",
   "pygments_lexer": "ipython3",
   "version": "3.7.0"
  }
 },
 "nbformat": 4,
 "nbformat_minor": 4
}
