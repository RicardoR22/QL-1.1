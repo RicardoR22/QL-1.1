{
 "cells": [
  {
   "cell_type": "markdown",
   "metadata": {},
   "source": [
    "# HW 1 - Covariance Matrix"
   ]
  },
  {
   "cell_type": "markdown",
   "metadata": {},
   "source": [
    "$Cov(X,Y)=1/(n-1) \\sum_{i=1}^{n}(x[i] - \\bar{x})(y[i] - \\bar{y})$"
   ]
  },
  {
   "cell_type": "code",
   "execution_count": 6,
   "metadata": {},
   "outputs": [],
   "source": [
    "import numpy as np\n",
    "\n",
    "def cov(lst1, lst2):\n",
    "    n = len(dataset1)\n",
    "    mean_lst1 = np.mean(lst1)\n",
    "    mean_lst2 = np.mean(lst2)\n",
    "    s = 0\n",
    "    \n",
    "    for (x,y) in zip(lst1, lst2):\n",
    "        s += (x - mean_lst1) * (y - mean_lst2)\n",
    "        \n",
    "    return s / (n - 1)"
   ]
  },
  {
   "cell_type": "code",
   "execution_count": 18,
   "metadata": {},
   "outputs": [
    {
     "name": "stdout",
     "output_type": "stream",
     "text": [
      "0.0\n",
      "0.0\n",
      "1.1666666666666667\n"
     ]
    }
   ],
   "source": [
    "dataset1 = [1, 1, 1, 1]\n",
    "dataset2 = [1, 2, 3, 4]\n",
    "dataset3 = [1, 1, 2, 3]\n",
    "\n",
    "print(cov(dataset1, dataset2))\n",
    "print(cov(dataset1, dataset3))\n",
    "print(cov(dataset2, dataset3))"
   ]
  },
  {
   "cell_type": "code",
   "execution_count": 27,
   "metadata": {},
   "outputs": [
    {
     "name": "stdout",
     "output_type": "stream",
     "text": [
      "1.6666666666666667\n"
     ]
    }
   ],
   "source": [
    "def variance(lst):\n",
    "    m = np.mean(lst)\n",
    "    S = 0\n",
    "    for xi in lst:\n",
    "        S += (xi - m) ** 2\n",
    "    return S / (len(lst) - 1)\n",
    "\n",
    "print(variance(dataset2))\n",
    "    "
   ]
  },
  {
   "cell_type": "code",
   "execution_count": 31,
   "metadata": {},
   "outputs": [
    {
     "name": "stdout",
     "output_type": "stream",
     "text": [
      "1.6666666666666667\n"
     ]
    }
   ],
   "source": [
    "print(np.var(dataset2, ddof=1))"
   ]
  },
  {
   "cell_type": "code",
   "execution_count": 44,
   "metadata": {},
   "outputs": [],
   "source": [
    "def cov_mtx(lstX, lstY, lstZ):\n",
    "    covXY = cov(lstX, lstY)\n",
    "    covXZ = cov(lstX, lstZ)\n",
    "    covYZ = cov(lstY, lstZ)\n",
    "    varX = variance(lstX)\n",
    "    varY = variance(lstY)\n",
    "    varZ = variance(lstZ)\n",
    "    \n",
    "    fString = (\n",
    "        f'{varX: .9} {covXY: .9} {covXZ: .9} \\n'\n",
    "        f'{covXY: .9} {varY: .9} {covYZ: .9} \\n'\n",
    "        f'{covXZ: .9} {covYZ: .9} {varZ: .9} \\n'\n",
    "    )\n",
    "    \n",
    "    return (fString)"
   ]
  },
  {
   "cell_type": "code",
   "execution_count": 45,
   "metadata": {},
   "outputs": [
    {
     "name": "stdout",
     "output_type": "stream",
     "text": [
      " 0.0  0.0  0.0 \n",
      " 0.0  1.66666667  1.16666667 \n",
      " 0.0  1.16666667  0.916666667 \n",
      "\n"
     ]
    }
   ],
   "source": [
    "print(cov_mtx(dataset1, dataset2, dataset3))"
   ]
  },
  {
   "cell_type": "code",
   "execution_count": 25,
   "metadata": {},
   "outputs": [
    {
     "name": "stdout",
     "output_type": "stream",
     "text": [
      "[[0.         0.         0.        ]\n",
      " [0.         1.66666667 1.16666667]\n",
      " [0.         1.16666667 0.91666667]]\n"
     ]
    }
   ],
   "source": [
    "def cov_matrix_calculation(data):\n",
    "    # calculate covariance matrix of the data\n",
    "    cov_matx = np.cov(data.T)\n",
    "    return cov_matx\n",
    "\n",
    "dataset = np.array([[1, 1, 1], [1, 2, 1], [1, 3, 2], [1, 4, 3]])\n",
    "print(cov_matrix_calculation(dataset))"
   ]
  }
 ],
 "metadata": {
  "kernelspec": {
   "display_name": "Python 3",
   "language": "python",
   "name": "python3"
  },
  "language_info": {
   "codemirror_mode": {
    "name": "ipython",
    "version": 3
   },
   "file_extension": ".py",
   "mimetype": "text/x-python",
   "name": "python",
   "nbconvert_exporter": "python",
   "pygments_lexer": "ipython3",
   "version": "3.7.0"
  }
 },
 "nbformat": 4,
 "nbformat_minor": 4
}
