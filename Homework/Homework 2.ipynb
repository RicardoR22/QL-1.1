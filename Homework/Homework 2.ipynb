{
 "cells": [
  {
   "cell_type": "markdown",
   "metadata": {},
   "source": [
    "\n",
    "<img style=\"float:left;transform: rotate(90deg); width:400px; height:600\" src=\"https://github.com/RicardoR22/QL-1.1/blob/master/Homework/IMG_1703.JPG\" />"
   ]
  },
  {
   "cell_type": "code",
   "execution_count": 36,
   "metadata": {},
   "outputs": [],
   "source": [
    "from random import choices \n",
    "\n",
    "def coin_flip(head_probability, trials):\n",
    "    possibilities = ['H', 'T']\n",
    "    weights = [head_probability, 1-head_probability]\n",
    "    accepted_results = [['H', 'H', 'T'], ['H', 'T', 'H'], ['T', 'H', 'H']]\n",
    "    valid_results = 0\n",
    "    \n",
    "    for _ in range(trials):\n",
    "        result = []\n",
    "        result.append(choices(possibilities, weights)[0])\n",
    "        result.append(choices(possibilities, weights)[0])\n",
    "        result.append(choices(possibilities, weights)[0])\n",
    "        \n",
    "        if result in accepted_results:\n",
    "            valid_results += 1\n",
    "\n",
    "    return valid_results / trials"
   ]
  },
  {
   "cell_type": "code",
   "execution_count": 131,
   "metadata": {},
   "outputs": [
    {
     "data": {
      "text/plain": [
       "0.432"
      ]
     },
     "execution_count": 131,
     "metadata": {},
     "output_type": "execute_result"
    }
   ],
   "source": [
    "coin_flip(0.6, 1000)"
   ]
  }
 ],
 "metadata": {
  "kernelspec": {
   "display_name": "Python 3",
   "language": "python",
   "name": "python3"
  },
  "language_info": {
   "codemirror_mode": {
    "name": "ipython",
    "version": 3
   },
   "file_extension": ".py",
   "mimetype": "text/x-python",
   "name": "python",
   "nbconvert_exporter": "python",
   "pygments_lexer": "ipython3",
   "version": "3.7.0"
  }
 },
 "nbformat": 4,
 "nbformat_minor": 4
}
