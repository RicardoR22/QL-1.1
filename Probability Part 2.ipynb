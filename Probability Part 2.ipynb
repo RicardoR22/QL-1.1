{
 "cells": [
  {
   "cell_type": "code",
   "execution_count": null,
   "metadata": {},
   "outputs": [],
   "source": [
    "\n",
    "        "
   ]
  },
  {
   "cell_type": "code",
   "execution_count": 51,
   "metadata": {},
   "outputs": [],
   "source": [
    "def sentence_word_counts(lst):\n",
    "    \n",
    "    combined_sentences = \"\"\n",
    "    \n",
    "    for sent in lst:\n",
    "        combined_sentences += \" \" + sent\n",
    "        \n",
    "    words = combined_sentences.split()\n",
    "    word_count = {}\n",
    "    \n",
    "    for word in words:\n",
    "        if not word.lower() in word_count:\n",
    "            word_count[word.lower()] = 1\n",
    "        else:\n",
    "            word_count[word.lower()] += 1\n",
    "    \n",
    "    return word_count"
   ]
  },
  {
   "cell_type": "code",
   "execution_count": 54,
   "metadata": {},
   "outputs": [
    {
     "data": {
      "text/plain": [
       "{'send': 3, 'us': 3, 'your': 3, 'password': 2, 'review': 1, 'account': 1}"
      ]
     },
     "execution_count": 54,
     "metadata": {},
     "output_type": "execute_result"
    }
   ],
   "source": [
    "spam_text= ['Send us your password', 'review us', 'Send your password', 'Send us your account']\n",
    "\n",
    "sentence_word_counts(spam_text)"
   ]
  },
  {
   "cell_type": "code",
   "execution_count": 55,
   "metadata": {},
   "outputs": [
    {
     "data": {
      "text/plain": [
       "{'send': 1, 'us': 1, 'your': 2, 'review': 2, 'password': 1}"
      ]
     },
     "execution_count": 55,
     "metadata": {},
     "output_type": "execute_result"
    }
   ],
   "source": [
    "ham_text = [\"Send us your review\", \"review your password\"]\n",
    "sentence_word_counts(ham_text)"
   ]
  },
  {
   "cell_type": "code",
   "execution_count": 80,
   "metadata": {},
   "outputs": [],
   "source": [
    "def prob_word_count(wc, word):\n",
    "    \n",
    "    if not word in wc:\n",
    "        return 0\n",
    "    \n",
    "    word_count = wc[word]\n",
    "    total_words = sum(wc.values())\n",
    "            \n",
    "    print(F\"{word_count}/{total_words}\")\n",
    "    return word_count/total_words"
   ]
  },
  {
   "cell_type": "code",
   "execution_count": 81,
   "metadata": {},
   "outputs": [
    {
     "name": "stdout",
     "output_type": "stream",
     "text": [
      "2/13\n"
     ]
    },
    {
     "data": {
      "text/plain": [
       "0.15384615384615385"
      ]
     },
     "execution_count": 81,
     "metadata": {},
     "output_type": "execute_result"
    }
   ],
   "source": [
    "prob_word_count(sentence_word_counts(spam_text), \"password\")"
   ]
  },
  {
   "cell_type": "code",
   "execution_count": 82,
   "metadata": {},
   "outputs": [
    {
     "name": "stdout",
     "output_type": "stream",
     "text": [
      "1/7\n"
     ]
    },
    {
     "data": {
      "text/plain": [
       "0.14285714285714285"
      ]
     },
     "execution_count": 82,
     "metadata": {},
     "output_type": "execute_result"
    }
   ],
   "source": [
    "prob_word_count(sentence_word_counts(ham_text), \"password\")"
   ]
  },
  {
   "cell_type": "code",
   "execution_count": 83,
   "metadata": {},
   "outputs": [],
   "source": [
    "def prob_spam(word):\n",
    "    \n",
    "    p_spam = 4/6\n",
    "    p_ham = 2/6\n",
    "    spam_text= ['Send us your password', 'review us', 'Send your password', 'Send us your account']\n",
    "    ham_text = [\"Send us your review\", \"review your password\"]\n",
    "\n",
    "\n",
    "    p_word_given_spam = prob_word_count(sentence_word_counts(spam_text), word)\n",
    "    p_word_given_ham = prob_word_count(sentence_word_counts(ham_text), word)\n",
    "    \n",
    "    p_word = p_word_given_spam*p_spam + p_word_given_ham*p_ham \n",
    "    print(F\"Probability of word: {p_word}\")\n",
    "    \n",
    "    p_spam_given_word = p_word_given_spam*p_spam/p_word\n",
    "    print(F\"Probability of word being spam: {p_spam_given_word}\")\n"
   ]
  },
  {
   "cell_type": "code",
   "execution_count": 84,
   "metadata": {},
   "outputs": [
    {
     "name": "stdout",
     "output_type": "stream",
     "text": [
      "2/13\n",
      "1/7\n",
      "Probability of word: 0.15018315018315018\n",
      "Probability of word being spam: 0.6829268292682927\n"
     ]
    }
   ],
   "source": [
    "prob_spam(\"password\")"
   ]
  },
  {
   "cell_type": "code",
   "execution_count": 85,
   "metadata": {},
   "outputs": [
    {
     "name": "stdout",
     "output_type": "stream",
     "text": [
      "1/13\n",
      "2/7\n",
      "Probability of word: 0.1465201465201465\n",
      "Probability of word being spam: 0.35000000000000003\n"
     ]
    }
   ],
   "source": [
    "prob_spam(\"review\")"
   ]
  },
  {
   "cell_type": "code",
   "execution_count": 86,
   "metadata": {},
   "outputs": [
    {
     "name": "stdout",
     "output_type": "stream",
     "text": [
      "3/13\n",
      "1/7\n",
      "Probability of word: 0.20146520146520147\n",
      "Probability of word being spam: 0.7636363636363637\n"
     ]
    }
   ],
   "source": [
    "prob_spam(\"send\")"
   ]
  },
  {
   "cell_type": "code",
   "execution_count": 87,
   "metadata": {},
   "outputs": [
    {
     "name": "stdout",
     "output_type": "stream",
     "text": [
      "3/13\n",
      "1/7\n",
      "Probability of word: 0.20146520146520147\n",
      "Probability of word being spam: 0.7636363636363637\n"
     ]
    }
   ],
   "source": [
    "prob_spam(\"us\")"
   ]
  },
  {
   "cell_type": "code",
   "execution_count": 88,
   "metadata": {},
   "outputs": [
    {
     "name": "stdout",
     "output_type": "stream",
     "text": [
      "3/13\n",
      "2/7\n",
      "Probability of word: 0.2490842490842491\n",
      "Probability of word being spam: 0.6176470588235294\n"
     ]
    }
   ],
   "source": [
    "prob_spam(\"your\")"
   ]
  },
  {
   "cell_type": "code",
   "execution_count": 89,
   "metadata": {},
   "outputs": [
    {
     "name": "stdout",
     "output_type": "stream",
     "text": [
      "1/13\n",
      "Probability of word: 0.05128205128205128\n",
      "Probability of word being spam: 1.0\n"
     ]
    }
   ],
   "source": [
    "prob_spam(\"account\")"
   ]
  },
  {
   "cell_type": "code",
   "execution_count": null,
   "metadata": {},
   "outputs": [],
   "source": []
  }
 ],
 "metadata": {
  "kernelspec": {
   "display_name": "Python 3",
   "language": "python",
   "name": "python3"
  },
  "language_info": {
   "codemirror_mode": {
    "name": "ipython",
    "version": 3
   },
   "file_extension": ".py",
   "mimetype": "text/x-python",
   "name": "python",
   "nbconvert_exporter": "python",
   "pygments_lexer": "ipython3",
   "version": "3.7.0"
  }
 },
 "nbformat": 4,
 "nbformat_minor": 4
}
